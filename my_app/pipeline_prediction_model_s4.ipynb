{
 "cells": [
  {
   "cell_type": "code",
   "execution_count": 21,
   "id": "9c7bdd71-c11a-49a6-b372-9ee5613f6a82",
   "metadata": {
    "tags": []
   },
   "outputs": [],
   "source": [
    "import kfp\n",
    "from google.cloud import aiplatform\n",
    "from kfp.v2 import dsl, compiler\n",
    "from kfp.v2.dsl import (Artifact, ClassificationMetrics, Input, Metrics, Output, component, Dataset)\n",
    "from google.cloud import storage\n",
    "from typing import NamedTuple\n",
    "from google_cloud_pipeline_components.v1.vertex_notification_email import VertexNotificationEmailOp\n",
    "\n",
    "from google_cloud_pipeline_components.v1 import bigquery as gcc_bq\n",
    "import os"
   ]
  },
  {
   "cell_type": "code",
   "execution_count": null,
   "id": "3b496177-6ca6-412a-9b24-94a23dc198b6",
   "metadata": {
    "tags": []
   },
   "outputs": [],
   "source": [
    "PRC_COBRANZAS = os.getenv(\"PRC_COBRANZAS\", \"mlops12-469915.github.cencus_filter_by_age\")\n",
    "PIPELINE_LABEL = os.getenv(\"PIPELINE_LABEL\", '{\"a\": \"a\", \"b\": \"b\"}')"
   ]
  },
  {
   "cell_type": "code",
   "execution_count": 34,
   "id": "5850a393-4eea-4b8c-a956-32fc221df9f2",
   "metadata": {
    "tags": []
   },
   "outputs": [],
   "source": [
    "QUERY_SP_1='''\n",
    "    DECLARE input_age INT64 DEFAULT ${input_age};\n",
    "    CALL `${PRC_COBRANZAS}` (input_age);\n",
    "'''"
   ]
  },
  {
   "cell_type": "code",
   "execution_count": 35,
   "id": "54238b67-9519-414f-a1bc-e9609461efe9",
   "metadata": {
    "tags": []
   },
   "outputs": [],
   "source": [
    "def generate_query(query_text: str, **replacements) -> str:\n",
    "    from string import Template\n",
    "    \n",
    "    query_base = Template(query_text).substitute(**replacements)\n",
    "    return query_base"
   ]
  },
  {
   "cell_type": "code",
   "execution_count": 36,
   "id": "d4477286-a6e1-486b-8331-5f35886e1622",
   "metadata": {
    "tags": []
   },
   "outputs": [],
   "source": [
    "def query_job_configuration(query: str, project: str, labels: dict, location:str='US') -> dict:\n",
    "    query_job = {\n",
    "        \"project\": project,\n",
    "        \"labels\": labels,\n",
    "        \"query\": query,\n",
    "        \"location\": location\n",
    "    }\n",
    "    return query_job"
   ]
  },
  {
   "cell_type": "code",
   "execution_count": 37,
   "id": "1991c0f6-ca58-48f7-93da-6eec580dea59",
   "metadata": {
    "tags": []
   },
   "outputs": [],
   "source": [
    "@component(packages_to_install=[\"google-cloud-bigquery\"])\n",
    "def validate_data(\n",
    "    source_x_train_table: str,\n",
    ") -> NamedTuple(\n",
    "    \"Outputs\",\n",
    "    [\n",
    "        (\"condition\", str)\n",
    "    ],\n",
    "):\n",
    "    from google.cloud import bigquery\n",
    "\n",
    "    client = bigquery.Client()\n",
    "\n",
    "    try:\n",
    "        client.get_table(source_x_train_table)\n",
    "        condition = \"true\"\n",
    "    except Exception as e:\n",
    "        condition = \"false\"\n",
    "\n",
    "    return (condition,)"
   ]
  },
  {
   "cell_type": "code",
   "execution_count": 38,
   "id": "750931b1-00a3-4a69-99cc-857937ffbb9c",
   "metadata": {
    "tags": []
   },
   "outputs": [],
   "source": [
    "@component\n",
    "def error_op(msg: str):\n",
    "    raise(msg)"
   ]
  },
  {
   "cell_type": "code",
   "execution_count": 39,
   "id": "22d6605f-8ca6-4287-bc46-7ad62a8cabd5",
   "metadata": {
    "tags": []
   },
   "outputs": [],
   "source": [
    "@kfp.dsl.pipeline(\n",
    "    name=\"pipeline-prediction-model\", \n",
    "    description=\"intro\",\n",
    "    pipeline_root=\"gs://testing-mlp12/financiera_oh_segmentacion/pipeline_prediction\"\n",
    ")\n",
    "\n",
    "def main_pipeline(\n",
    "    project: str,\n",
    "    source_x_train_table: str,\n",
    "    input_age: int,\n",
    "    gcp_region: str = \"us-central1\",\n",
    "):\n",
    "    \n",
    "    notify_email_task = VertexNotificationEmailOp(recipients=[\"a.luisaybar@gmail.com\"])\n",
    "    notify_email_task.set_display_name('Notification Email')\n",
    "    \n",
    "    with dsl.ExitHandler(notify_email_task, name=\"Execute pipeline prediction\"):\n",
    "        \n",
    "        validate_tables_job = validate_data(\n",
    "            source_x_train_table = source_x_train_table\n",
    "        )\n",
    "        validate_tables_job.set_display_name('Validate Data')\n",
    "\n",
    "        with dsl.Condition(\n",
    "            validate_tables_job.outputs['condition']==\"false\",\n",
    "            name=\"no-execute\",\n",
    "        ):\n",
    "            error_op(\n",
    "                msg=\"No se logro validar las tablas de ingesta.\"\n",
    "            )\n",
    "\n",
    "\n",
    "        with dsl.Condition(\n",
    "            validate_tables_job.outputs['condition']==\"true\",\n",
    "            name=\"execute\",\n",
    "        ):\n",
    "            \n",
    "\n",
    "            query_prc_1 = generate_query(\n",
    "                QUERY_SP_1,\n",
    "                PRC_COBRANZAS=PRC_COBRANZAS,\n",
    "                input_age=input_age\n",
    "            )\n",
    "            \n",
    "            query_prc_1_job = query_job_configuration(query_prc_1, project, PIPELINE_LABEL)\n",
    "            \n",
    "            bq_query_prc = gcc_bq.BigqueryQueryJobOp(**query_prc_1_job)\n",
    "            bq_query_prc.set_display_name(\"BIGQUERY SP\")"
   ]
  },
  {
   "cell_type": "code",
   "execution_count": 40,
   "id": "9a09581f-2348-45b5-8533-225e3d04d95e",
   "metadata": {
    "tags": []
   },
   "outputs": [
    {
     "name": "stderr",
     "output_type": "stream",
     "text": [
      "/opt/conda/envs/dev/lib/python3.8/site-packages/kfp/v2/compiler/compiler.py:1290: FutureWarning: APIs imported from the v1 namespace (e.g. kfp.dsl, kfp.components, etc) will not be supported by the v2 compiler since v2.0.0\n",
      "  warnings.warn(\n"
     ]
    }
   ],
   "source": [
    "compiler.Compiler().compile(\n",
    "    pipeline_func=main_pipeline,\n",
    "    package_path=\"pipeline_prediction.json\"\n",
    ")"
   ]
  },
  {
   "cell_type": "code",
   "execution_count": 41,
   "id": "6dd4e0a1-9ca9-4a10-964d-a2a9469af54e",
   "metadata": {
    "tags": []
   },
   "outputs": [
    {
     "name": "stdout",
     "output_type": "stream",
     "text": [
      "Archivo pipeline_prediction.json subido a financiera_oh_segmentacion/pipeline_prediction/pipeline_prediction.json en el bucket testing-mlp12.\n"
     ]
    }
   ],
   "source": [
    "def upload_to_gcs(bucket_name, source_file_name, destination_blob_name):\n",
    "    storage_client = storage.Client()\n",
    "    bucket = storage_client.bucket(bucket_name)\n",
    "    blob = bucket.blob(destination_blob_name)\n",
    "    blob.upload_from_filename(source_file_name)\n",
    "    print(f\"Archivo {source_file_name} subido a {destination_blob_name} en el bucket {bucket_name}.\")\n",
    "\n",
    "# Define las variables\n",
    "bucket_name = \"testing-mlp12\"\n",
    "destination_blob_name = \"financiera_oh_segmentacion/pipeline_prediction/pipeline_prediction.json\"\n",
    "pipeline_file = \"pipeline_prediction.json\"\n",
    "# Llamar a la función para subir el archivo\n",
    "upload_to_gcs(bucket_name, pipeline_file, destination_blob_name)"
   ]
  },
  {
   "cell_type": "code",
   "execution_count": 42,
   "id": "d30531d7-f798-420e-9cde-d8bd781deb10",
   "metadata": {
    "tags": []
   },
   "outputs": [],
   "source": [
    "aiplatform.init(project=\"mlops12-469915\", location=\"us-central1\")"
   ]
  },
  {
   "cell_type": "code",
   "execution_count": 43,
   "id": "717e7da3-41a5-4a91-b763-a36acfdc6c3d",
   "metadata": {
    "tags": []
   },
   "outputs": [
    {
     "name": "stdout",
     "output_type": "stream",
     "text": [
      "submit pipeline job ...\n",
      "Creating PipelineJob\n",
      "PipelineJob created. Resource name: projects/534043014924/locations/us-central1/pipelineJobs/pipeline-prediction-model-20250924005450\n",
      "To use this PipelineJob in another session:\n",
      "pipeline_job = aiplatform.PipelineJob.get('projects/534043014924/locations/us-central1/pipelineJobs/pipeline-prediction-model-20250924005450')\n",
      "View Pipeline Job:\n",
      "https://console.cloud.google.com/vertex-ai/locations/us-central1/pipelines/runs/pipeline-prediction-model-20250924005450?project=534043014924\n"
     ]
    }
   ],
   "source": [
    "job = aiplatform.PipelineJob(\n",
    "    display_name=\"pipeline de prueba\",\n",
    "    template_path=\"gs://testing-mlp12/financiera_oh_segmentacion/pipeline_prediction/pipeline_prediction.json\",\n",
    "    enable_caching=True,\n",
    "    project=\"mlops12-469915\",\n",
    "    location=\"us-central1\",\n",
    "    parameter_values={\"project\": \"mlops12-469915\",\n",
    "                      \"source_x_train_table\": \"mlops12-469915.mlops12.xtrain\",\n",
    "                      \"input_age\": 60\n",
    "                      \n",
    "                     }\n",
    "    #labels={\"module\": \"ml\", \"application\": \"app\", \"chapter\": \"mlops\", \"company\": \"datapat\", \"environment\": \"dev\", \"owner\": \"xxxx\"}\n",
    ")\n",
    "\n",
    "print('submit pipeline job ...')\n",
    "job.submit(service_account=\"mlops-process@mlops12-469915.iam.gserviceaccount.com\")"
   ]
  },
  {
   "cell_type": "code",
   "execution_count": null,
   "id": "df04c340-d9da-4bfe-af10-9ad2aa244499",
   "metadata": {},
   "outputs": [],
   "source": []
  }
 ],
 "metadata": {
  "environment": {
   "kernel": "dev",
   "name": "workbench-notebooks.m132",
   "type": "gcloud",
   "uri": "us-docker.pkg.dev/deeplearning-platform-release/gcr.io/workbench-notebooks:m132"
  },
  "kernelspec": {
   "display_name": "dev",
   "language": "python",
   "name": "dev"
  },
  "language_info": {
   "codemirror_mode": {
    "name": "ipython",
    "version": 3
   },
   "file_extension": ".py",
   "mimetype": "text/x-python",
   "name": "python",
   "nbconvert_exporter": "python",
   "pygments_lexer": "ipython3",
   "version": "3.8.20"
  }
 },
 "nbformat": 4,
 "nbformat_minor": 5
}
